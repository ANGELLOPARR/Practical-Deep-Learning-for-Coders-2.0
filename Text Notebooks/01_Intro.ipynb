{
  "nbformat": 4,
  "nbformat_minor": 0,
  "metadata": {
    "colab": {
      "name": "01_Intro.ipynb",
      "provenance": [],
      "collapsed_sections": []
    },
    "kernelspec": {
      "name": "python3",
      "display_name": "Python 3"
    },
    "accelerator": "GPU"
  },
  "cells": [
    {
      "cell_type": "markdown",
      "metadata": {
        "id": "6O6Bq4eHwAIM",
        "colab_type": "text"
      },
      "source": [
        "# 01 - Introduction to NLP in `fastai2`\n",
        "\n",
        "Things work a little differently in `fastai2` for text compared to the other two modules (vision and tab)\n",
        "\n",
        "\n",
        "* We pre-tokenize our text\n",
        "* The training outline is different\n",
        "* ULM-FiT get's fine-tuned differently too\n",
        "\n",
        "In today's lesson we'll explore the *high-level* API for Text, and understand what makes it different"
      ]
    },
    {
      "cell_type": "code",
      "metadata": {
        "id": "7hr_QXrqv-Cj",
        "colab_type": "code",
        "colab": {}
      },
      "source": [
        "!pip install fastai2 nbdev --quiet\n",
        "!pip show fastai2"
      ],
      "execution_count": null,
      "outputs": []
    },
    {
      "cell_type": "markdown",
      "metadata": {
        "id": "Su-SKRnkxRHH",
        "colab_type": "text"
      },
      "source": [
        "## Starting with the data"
      ]
    },
    {
      "cell_type": "code",
      "metadata": {
        "id": "AES9USzGxM9y",
        "colab_type": "code",
        "colab": {}
      },
      "source": [
        "from fastai2.text.all import *"
      ],
      "execution_count": null,
      "outputs": []
    },
    {
      "cell_type": "markdown",
      "metadata": {
        "id": "QW86zV2MxU0j",
        "colab_type": "text"
      },
      "source": [
        "We're going to use a subset of the IMDB dataset, a sentiment-analysis dataset where you try to see if a review was positive or negative:"
      ]
    },
    {
      "cell_type": "code",
      "metadata": {
        "id": "umg1EXMgxUfY",
        "colab_type": "code",
        "colab": {
          "base_uri": "https://localhost:8080/",
          "height": 17
        },
        "outputId": "260b0b2a-4829-4b2f-dba4-2f4fd0762d8f"
      },
      "source": [
        "path = untar_data(URLs.IMDB_SAMPLE)"
      ],
      "execution_count": null,
      "outputs": [
        {
          "output_type": "display_data",
          "data": {
            "text/html": [
              ""
            ],
            "text/plain": [
              "<IPython.core.display.HTML object>"
            ]
          },
          "metadata": {
            "tags": []
          }
        }
      ]
    },
    {
      "cell_type": "markdown",
      "metadata": {
        "id": "Grjht8LExZ7c",
        "colab_type": "text"
      },
      "source": [
        "What's in our path?"
      ]
    },
    {
      "cell_type": "code",
      "metadata": {
        "id": "mZpO9HcPxZZI",
        "colab_type": "code",
        "colab": {
          "base_uri": "https://localhost:8080/",
          "height": 34
        },
        "outputId": "02be03ff-fde0-4d86-a3f8-546ff5978e83"
      },
      "source": [
        "path.ls()"
      ],
      "execution_count": null,
      "outputs": [
        {
          "output_type": "execute_result",
          "data": {
            "text/plain": [
              "(#1) [Path('/root/.fastai/data/imdb_sample/texts.csv')]"
            ]
          },
          "metadata": {
            "tags": []
          },
          "execution_count": 4
        }
      ]
    },
    {
      "cell_type": "code",
      "metadata": {
        "id": "IbD1541Ex5TU",
        "colab_type": "code",
        "colab": {}
      },
      "source": [
        "df = pd.read_csv(path/'texts.csv')"
      ],
      "execution_count": null,
      "outputs": []
    },
    {
      "cell_type": "code",
      "metadata": {
        "id": "Py2247P3x7Gn",
        "colab_type": "code",
        "colab": {
          "base_uri": "https://localhost:8080/",
          "height": 733
        },
        "outputId": "3ff0001c-968e-4761-9d90-afde60794403"
      },
      "source": [
        "df.head()"
      ],
      "execution_count": null,
      "outputs": [
        {
          "output_type": "execute_result",
          "data": {
            "text/html": [
              "<div>\n",
              "<style scoped>\n",
              "    .dataframe tbody tr th:only-of-type {\n",
              "        vertical-align: middle;\n",
              "    }\n",
              "\n",
              "    .dataframe tbody tr th {\n",
              "        vertical-align: top;\n",
              "    }\n",
              "\n",
              "    .dataframe thead th {\n",
              "        text-align: right;\n",
              "    }\n",
              "</style>\n",
              "<table border=\"1\" class=\"dataframe\">\n",
              "  <thead>\n",
              "    <tr style=\"text-align: right;\">\n",
              "      <th></th>\n",
              "      <th>label</th>\n",
              "      <th>text</th>\n",
              "      <th>is_valid</th>\n",
              "    </tr>\n",
              "  </thead>\n",
              "  <tbody>\n",
              "    <tr>\n",
              "      <th>0</th>\n",
              "      <td>negative</td>\n",
              "      <td>Un-bleeping-believable! Meg Ryan doesn't even look her usual pert lovable self in this, which normally makes me forgive her shallow ticky acting schtick. Hard to believe she was the producer on this dog. Plus Kevin Kline: what kind of suicide trip has his career been on? Whoosh... Banzai!!! Finally this was directed by the guy who did Big Chill? Must be a replay of Jonestown - hollywood style. Wooofff!</td>\n",
              "      <td>False</td>\n",
              "    </tr>\n",
              "    <tr>\n",
              "      <th>1</th>\n",
              "      <td>positive</td>\n",
              "      <td>This is a extremely well-made film. The acting, script and camera-work are all first-rate. The music is good, too, though it is mostly early in the film, when things are still relatively cheery. There are no really superstars in the cast, though several faces will be familiar. The entire cast does an excellent job with the script.&lt;br /&gt;&lt;br /&gt;But it is hard to watch, because there is no good end to a situation like the one presented. It is now fashionable to blame the British for setting Hindus and Muslims against each other, and then cruelly separating them into two countries. There is som...</td>\n",
              "      <td>False</td>\n",
              "    </tr>\n",
              "    <tr>\n",
              "      <th>2</th>\n",
              "      <td>negative</td>\n",
              "      <td>Every once in a long while a movie will come along that will be so awful that I feel compelled to warn people. If I labor all my days and I can save but one soul from watching this movie, how great will be my joy.&lt;br /&gt;&lt;br /&gt;Where to begin my discussion of pain. For starters, there was a musical montage every five minutes. There was no character development. Every character was a stereotype. We had swearing guy, fat guy who eats donuts, goofy foreign guy, etc. The script felt as if it were being written as the movie was being shot. The production value was so incredibly low that it felt li...</td>\n",
              "      <td>False</td>\n",
              "    </tr>\n",
              "    <tr>\n",
              "      <th>3</th>\n",
              "      <td>positive</td>\n",
              "      <td>Name just says it all. I watched this movie with my dad when it came out and having served in Korea he had great admiration for the man. The disappointing thing about this film is that it only concentrate on a short period of the man's life - interestingly enough the man's entire life would have made such an epic bio-pic that it is staggering to imagine the cost for production.&lt;br /&gt;&lt;br /&gt;Some posters elude to the flawed characteristics about the man, which are cheap shots. The theme of the movie \"Duty, Honor, Country\" are not just mere words blathered from the lips of a high-brassed offic...</td>\n",
              "      <td>False</td>\n",
              "    </tr>\n",
              "    <tr>\n",
              "      <th>4</th>\n",
              "      <td>negative</td>\n",
              "      <td>This movie succeeds at being one of the most unique movies you've seen. However this comes from the fact that you can't make heads or tails of this mess. It almost seems as a series of challenges set up to determine whether or not you are willing to walk out of the movie and give up the money you just paid. If you don't want to feel slighted you'll sit through this horrible film and develop a real sense of pity for the actors involved, they've all seen better days, but then you realize they actually got paid quite a bit of money to do this and you'll lose pity for them just like you've alr...</td>\n",
              "      <td>False</td>\n",
              "    </tr>\n",
              "  </tbody>\n",
              "</table>\n",
              "</div>"
            ],
            "text/plain": [
              "      label  ... is_valid\n",
              "0  negative  ...    False\n",
              "1  positive  ...    False\n",
              "2  negative  ...    False\n",
              "3  positive  ...    False\n",
              "4  negative  ...    False\n",
              "\n",
              "[5 rows x 3 columns]"
            ]
          },
          "metadata": {
            "tags": []
          },
          "execution_count": 6
        }
      ]
    },
    {
      "cell_type": "markdown",
      "metadata": {
        "id": "kJllXF1mxb_t",
        "colab_type": "text"
      },
      "source": [
        "Alright! So what's the general plan for training?\n",
        "\n",
        "1. Language Model (LM) DataLoaders\n",
        "2. LM Training\n",
        "3. Classification DataLoaders\n",
        "4. Fine-Tune with LM encoder"
      ]
    },
    {
      "cell_type": "markdown",
      "metadata": {
        "id": "ooaA9sWpxuY3",
        "colab_type": "text"
      },
      "source": [
        "We're just going to touch on how to use the API, in the next lesson we'll touch on the nitty-gritty of what is going on. For now, let's look at how to build this LM DataLoader using the `DataBlock` API:"
      ]
    },
    {
      "cell_type": "markdown",
      "metadata": {
        "id": "hCMZXXA3x-jx",
        "colab_type": "text"
      },
      "source": [
        "### `TextBlock`\n",
        "\n",
        "As it's a text problem, we'll probably want something like a `TextBlock` right? Well we can't simply do this:"
      ]
    },
    {
      "cell_type": "code",
      "metadata": {
        "id": "Zs_6pPZpxbDY",
        "colab_type": "code",
        "colab": {}
      },
      "source": [
        "block = [TextBlock]"
      ],
      "execution_count": null,
      "outputs": []
    },
    {
      "cell_type": "markdown",
      "metadata": {
        "id": "KtsyF03fyH21",
        "colab_type": "text"
      },
      "source": [
        "It won't throw any errors yet, so *why*?"
      ]
    },
    {
      "cell_type": "code",
      "metadata": {
        "id": "wI3NfuRdyPW5",
        "colab_type": "code",
        "colab": {
          "base_uri": "https://localhost:8080/",
          "height": 168
        },
        "outputId": "37727a80-8aa0-4ceb-fd3a-404e5b6e9a13"
      },
      "source": [
        "doc(TextBlock)"
      ],
      "execution_count": null,
      "outputs": [
        {
          "output_type": "display_data",
          "data": {
            "text/html": [
              "<h2 id=\"TextBlock\" class=\"doc_header\"><code>class</code> <code>TextBlock</code><a href=\"https://github.com/fastai/fastai2/tree/master/fastai2/text/data.py#L187\" class=\"source_link\" style=\"float:right\">[source]</a></h2><blockquote><p><code>TextBlock</code>(<strong><code>tok_tfm</code></strong>, <strong><code>vocab</code></strong>=<em><code>None</code></em>, <strong><code>is_lm</code></strong>=<em><code>False</code></em>, <strong><code>seq_len</code></strong>=<em><code>72</code></em>, <strong><code>min_freq</code></strong>=<em><code>3</code></em>, <strong><code>max_vocab</code></strong>=<em><code>60000</code></em>, <strong><code>special_toks</code></strong>=<em><code>None</code></em>) :: <code>TransformBlock</code></p>\n",
              "</blockquote>\n",
              "<p>A <code>TransformBlock</code> for texts</p>\n",
              "<p><a href=\"https://dev.fast.ai/text.data#TextBlock\" target=\"_blank\" rel=\"noreferrer noopener\">Show in docs</a></p>\n"
            ],
            "text/plain": [
              "<IPython.core.display.HTML object>"
            ]
          },
          "metadata": {
            "tags": []
          }
        }
      ]
    },
    {
      "cell_type": "markdown",
      "metadata": {
        "id": "EHXds2onyXFH",
        "colab_type": "text"
      },
      "source": [
        "`TextBlock` needs to know how we plan to tokenize our words (our `tok_tfm`), if we want to use a vocab already, if it's a language model, our sequence length, and a few other parameters. So there's a lot going on there!\n",
        "\n",
        "Along with this there's a few class methods for this too:"
      ]
    },
    {
      "cell_type": "code",
      "metadata": {
        "id": "pnmlws5-ySS0",
        "colab_type": "code",
        "colab": {
          "base_uri": "https://localhost:8080/",
          "height": 177
        },
        "outputId": "5365d9ed-1bb9-491e-ff68-84e49ad02d1b"
      },
      "source": [
        "doc(TextBlock.from_df)"
      ],
      "execution_count": null,
      "outputs": [
        {
          "output_type": "display_data",
          "data": {
            "text/html": [
              "<h4 id=\"TextBlock.from_df\" class=\"doc_header\"><code>TextBlock.from_df</code><a href=\"https://github.com/fastai/fastai2/tree/master/fastai2/text/data.py#L195\" class=\"source_link\" style=\"float:right\">[source]</a></h4><blockquote><p><code>TextBlock.from_df</code>(<strong><code>text_cols</code></strong>, <strong><code>vocab</code></strong>=<em><code>None</code></em>, <strong><code>is_lm</code></strong>=<em><code>False</code></em>, <strong><code>seq_len</code></strong>=<em><code>72</code></em>, <strong><code>min_freq</code></strong>=<em><code>3</code></em>, <strong><code>max_vocab</code></strong>=<em><code>60000</code></em>, <strong><code>tok_func</code></strong>=<em><code>'SpacyTokenizer'</code></em>, <strong><code>rules</code></strong>=<em><code>None</code></em>, <strong><code>sep</code></strong>=<em><code>' '</code></em>, <strong><code>n_workers</code></strong>=<em><code>2</code></em>, <strong><code>mark_fields</code></strong>=<em><code>None</code></em>, <strong><code>res_col_name</code></strong>=<em><code>'text'</code></em>, <strong>**<code>kwargs</code></strong>)</p>\n",
              "</blockquote>\n",
              "<p>Build a <code>TextBlock</code> from a dataframe using <code>text_cols</code></p>\n",
              "<p><a href=\"https://dev.fast.ai/text.data#TextBlock.from_df\" target=\"_blank\" rel=\"noreferrer noopener\">Show in docs</a></p>\n"
            ],
            "text/plain": [
              "<IPython.core.display.HTML object>"
            ]
          },
          "metadata": {
            "tags": []
          }
        }
      ]
    },
    {
      "cell_type": "code",
      "metadata": {
        "id": "4hXwCjUnyriT",
        "colab_type": "code",
        "colab": {
          "base_uri": "https://localhost:8080/",
          "height": 177
        },
        "outputId": "6a771ba4-f1bf-476c-8d69-346d34f3e231"
      },
      "source": [
        "doc(TextBlock.from_folder)"
      ],
      "execution_count": null,
      "outputs": [
        {
          "output_type": "display_data",
          "data": {
            "text/html": [
              "<h4 id=\"TextBlock.from_folder\" class=\"doc_header\"><code>TextBlock.from_folder</code><a href=\"https://github.com/fastai/fastai2/tree/master/fastai2/text/data.py#L202\" class=\"source_link\" style=\"float:right\">[source]</a></h4><blockquote><p><code>TextBlock.from_folder</code>(<strong><code>path</code></strong>, <strong><code>vocab</code></strong>=<em><code>None</code></em>, <strong><code>is_lm</code></strong>=<em><code>False</code></em>, <strong><code>seq_len</code></strong>=<em><code>72</code></em>, <strong><code>min_freq</code></strong>=<em><code>3</code></em>, <strong><code>max_vocab</code></strong>=<em><code>60000</code></em>, <strong><code>tok_func</code></strong>=<em><code>'SpacyTokenizer'</code></em>, <strong><code>rules</code></strong>=<em><code>None</code></em>, <strong><code>extensions</code></strong>=<em><code>None</code></em>, <strong><code>folders</code></strong>=<em><code>None</code></em>, <strong><code>output_dir</code></strong>=<em><code>None</code></em>, <strong><code>n_workers</code></strong>=<em><code>2</code></em>, <strong><code>encoding</code></strong>=<em><code>'utf8'</code></em>, <strong>**<code>kwargs</code></strong>)</p>\n",
              "</blockquote>\n",
              "<p>Build a <code>TextBlock</code> from a <code>path</code></p>\n",
              "<p><a href=\"https://dev.fast.ai/text.data#TextBlock.from_folder\" target=\"_blank\" rel=\"noreferrer noopener\">Show in docs</a></p>\n"
            ],
            "text/plain": [
              "<IPython.core.display.HTML object>"
            ]
          },
          "metadata": {
            "tags": []
          }
        }
      ]
    },
    {
      "cell_type": "markdown",
      "metadata": {
        "id": "7In6V0Zgyt_T",
        "colab_type": "text"
      },
      "source": [
        "So we can see if we don't necissarily want to define everything ourself we can use quick and easy `from_df` and `from_folder` methods. We'll use `from_df` here. \n",
        "\n",
        "But what? What is this `res_col_name`? `res_col_name` is the column where our tokenized text will be added to. This becomes *very* important as our `get_x` is going to want to pull from this column rather than where our untokenized input is. So let's build a `TextBlock` for our problem. So we can see a different output, we'll change our `res_col_name` to `tok_text`:"
      ]
    },
    {
      "cell_type": "code",
      "metadata": {
        "id": "oHvRTZQxytVy",
        "colab_type": "code",
        "colab": {}
      },
      "source": [
        "lm_block = TextBlock.from_df('text', is_lm=True, res_col_name='tok_text')"
      ],
      "execution_count": null,
      "outputs": []
    },
    {
      "cell_type": "markdown",
      "metadata": {
        "id": "5AvcUtCxzRd1",
        "colab_type": "text"
      },
      "source": [
        "For the rest of our `DataBlock`, we want our `get_x` to read that `res_col_name` column, and our splitter to split our data 90%, 10%: \n",
        "\n",
        "> The more data you can train your LM on, the better:"
      ]
    },
    {
      "cell_type": "code",
      "metadata": {
        "id": "AYsnwPl5zQ6B",
        "colab_type": "code",
        "colab": {}
      },
      "source": [
        "dblock = DataBlock(blocks=lm_block,\n",
        "                   get_x=ColReader('tok_text'),\n",
        "                   splitter=RandomSplitter(0.1))"
      ],
      "execution_count": null,
      "outputs": []
    },
    {
      "cell_type": "markdown",
      "metadata": {
        "id": "TNKcYV_L0Uy3",
        "colab_type": "text"
      },
      "source": [
        "And now we build the `DataLoaders`. We need to declare how long our sequence length is going to be here as well:\n",
        "\n",
        "> We'll also set `num_workers` to 4, the rule of thumb is 4 workers / 1 GPU, [source](https://discuss.pytorch.org/t/guidelines-for-assigning-num-workers-to-dataloader/813/5)"
      ]
    },
    {
      "cell_type": "code",
      "metadata": {
        "id": "-OzaNmsKzaui",
        "colab_type": "code",
        "colab": {
          "base_uri": "https://localhost:8080/",
          "height": 50
        },
        "outputId": "85000e38-68b1-416f-a7a4-ea4a51f84bf5"
      },
      "source": [
        "%%time\n",
        "dls = dblock.dataloaders(df, bs=64, seq_len=72, num_workers=4)"
      ],
      "execution_count": null,
      "outputs": [
        {
          "output_type": "display_data",
          "data": {
            "text/html": [
              ""
            ],
            "text/plain": [
              "<IPython.core.display.HTML object>"
            ]
          },
          "metadata": {
            "tags": []
          }
        },
        {
          "output_type": "stream",
          "text": [
            "CPU times: user 766 ms, sys: 79.2 ms, total: 845 ms\n",
            "Wall time: 3.47 s\n"
          ],
          "name": "stdout"
        }
      ]
    },
    {
      "cell_type": "markdown",
      "metadata": {
        "id": "Ej1E6ER01eaH",
        "colab_type": "text"
      },
      "source": [
        "Let's look at a batch of data, both in a raw form and as a show_batch:"
      ]
    },
    {
      "cell_type": "code",
      "metadata": {
        "id": "amyAR4oT09kT",
        "colab_type": "code",
        "colab": {
          "base_uri": "https://localhost:8080/",
          "height": 438
        },
        "outputId": "1bab5fac-3ff5-4664-c1c7-a5cb6e4ac96c"
      },
      "source": [
        "dls.show_batch(max_n=3)"
      ],
      "execution_count": null,
      "outputs": [
        {
          "output_type": "display_data",
          "data": {
            "text/html": [
              "<table border=\"1\" class=\"dataframe\">\n",
              "  <thead>\n",
              "    <tr style=\"text-align: right;\">\n",
              "      <th></th>\n",
              "      <th>text</th>\n",
              "      <th>text_</th>\n",
              "    </tr>\n",
              "  </thead>\n",
              "  <tbody>\n",
              "    <tr>\n",
              "      <th>0</th>\n",
              "      <td>xxbos i xxunk this movie a xxunk days xxunk … what the xxunk was that ? \\n\\n i like movies with xxmaj xxunk xxunk , they are xxunk and xxunk . xxmaj when i xxunk a xxunk of this xxunk and xxunk i xxunk great , this one could be really good … some xxunk for xxunk or xxunk xxunk movies … but xxunk then i xxunk a xxunk and xxunk xxunk</td>\n",
              "      <td>i xxunk this movie a xxunk days xxunk … what the xxunk was that ? \\n\\n i like movies with xxmaj xxunk xxunk , they are xxunk and xxunk . xxmaj when i xxunk a xxunk of this xxunk and xxunk i xxunk great , this one could be really good … some xxunk for xxunk or xxunk xxunk movies … but xxunk then i xxunk a xxunk and xxunk xxunk it</td>\n",
              "    </tr>\n",
              "    <tr>\n",
              "      <th>1</th>\n",
              "      <td>xxunk . xxmaj the xxunk is , i xxunk n't xxunk this film at all xxunk . \\n\\n xxmaj it 's the xxunk of xxunk you xxunk xxunk to see xxunk on a xxunk as a xxunk xxunk xxunk and as an xxunk in xxunk xxunk xxunk , xxunk xxunk . and just xxunk the xxunk , it xxunk on some xxunk . xxmaj as a xxunk xxunk of film though ,</td>\n",
              "      <td>. xxmaj the xxunk is , i xxunk n't xxunk this film at all xxunk . \\n\\n xxmaj it 's the xxunk of xxunk you xxunk xxunk to see xxunk on a xxunk as a xxunk xxunk xxunk and as an xxunk in xxunk xxunk xxunk , xxunk xxunk . and just xxunk the xxunk , it xxunk on some xxunk . xxmaj as a xxunk xxunk of film though , it</td>\n",
              "    </tr>\n",
              "    <tr>\n",
              "      <th>2</th>\n",
              "      <td>were xxunk xxunk on such a xxunk of a movie … if you can even xxunk it a movie . xxbos xxmaj the only xxunk xxunk of this film is the xxunk xxunk … xxunk , this movie was xxunk . xxmaj the acting was xxunk xxunk , and the xxunk xxunk was xxunk and very xxunk . xxmaj the xxunk was xxunk , but it was very hard to xxunk xxunk</td>\n",
              "      <td>xxunk xxunk on such a xxunk of a movie … if you can even xxunk it a movie . xxbos xxmaj the only xxunk xxunk of this film is the xxunk xxunk … xxunk , this movie was xxunk . xxmaj the acting was xxunk xxunk , and the xxunk xxunk was xxunk and very xxunk . xxmaj the xxunk was xxunk , but it was very hard to xxunk xxunk to</td>\n",
              "    </tr>\n",
              "  </tbody>\n",
              "</table>"
            ],
            "text/plain": [
              "<IPython.core.display.HTML object>"
            ]
          },
          "metadata": {
            "tags": []
          }
        }
      ]
    },
    {
      "cell_type": "markdown",
      "metadata": {
        "id": "xxnfOUDS1j6z",
        "colab_type": "text"
      },
      "source": [
        "So this looks a bit odd, what happened?\n",
        "\n",
        "* Tokenized and Numericalized our text (we'll see the latter in a moment)\n",
        "* LM's want to predict the *next* word in a sequence"
      ]
    },
    {
      "cell_type": "code",
      "metadata": {
        "id": "L39lo6UQ1jfX",
        "colab_type": "code",
        "colab": {}
      },
      "source": [
        "xb,yb = next(iter(dls[0]))"
      ],
      "execution_count": null,
      "outputs": []
    },
    {
      "cell_type": "code",
      "metadata": {
        "id": "aV2i9cN-1sow",
        "colab_type": "code",
        "colab": {
          "base_uri": "https://localhost:8080/",
          "height": 118
        },
        "outputId": "eb57213a-6665-40e4-8e7a-7abbf8cace5d"
      },
      "source": [
        "xb[0]"
      ],
      "execution_count": null,
      "outputs": [
        {
          "output_type": "execute_result",
          "data": {
            "text/plain": [
              "tensor([  2,  25,   0,   0,   8,   0,  38,   0,   0,  86,  16,   0,  66,  11,\n",
              "         12,  27,   0,  86,  25,   0,   9,   0,  21,  18,  26,  11,  12, 102,\n",
              "         73,  48,  86,  25,   0,  19,   8,   0,  92,   0,  16,   0,  10,   8,\n",
              "          9,  26,  11,   0,  11,  27,  14,   0,   0,  10,   8,   9,   0,  28,\n",
              "          0,   0,   9,   0,  12,   0,   0,  13,   9,   0,   0,  11,  12,   9,\n",
              "          0,  17], device='cuda:0')"
            ]
          },
          "metadata": {
            "tags": []
          },
          "execution_count": 33
        }
      ]
    },
    {
      "cell_type": "code",
      "metadata": {
        "id": "mhw3gHSy1tZN",
        "colab_type": "code",
        "colab": {
          "base_uri": "https://localhost:8080/",
          "height": 118
        },
        "outputId": "e3c1586e-a4d3-4a9a-c252-9f1dbc078af9"
      },
      "source": [
        "yb[0]"
      ],
      "execution_count": null,
      "outputs": [
        {
          "output_type": "execute_result",
          "data": {
            "text/plain": [
              "tensor([ 25,   0,   0,   8,   0,  38,   0,   0,  86,  16,   0,  66,  11,  12,\n",
              "         27,   0,  86,  25,   0,   9,   0,  21,  18,  26,  11,  12, 102,  73,\n",
              "         48,  86,  25,   0,  19,   8,   0,  92,   0,  16,   0,  10,   8,   9,\n",
              "         26,  11,   0,  11,  27,  14,   0,   0,  10,   8,   9,   0,  28,   0,\n",
              "          0,   9,   0,  12,   0,   0,  13,   9,   0,   0,  11,  12,   9,   0,\n",
              "         17,   0], device='cuda:0')"
            ]
          },
          "metadata": {
            "tags": []
          },
          "execution_count": 34
        }
      ]
    },
    {
      "cell_type": "markdown",
      "metadata": {
        "id": "jZeViWAp1vX_",
        "colab_type": "text"
      },
      "source": [
        "This is where that `Numericalization` comes into play. Each token/vocabulary gets converted into a number for us to pass to our model, also:"
      ]
    },
    {
      "cell_type": "code",
      "metadata": {
        "id": "ysX_slwr1uLb",
        "colab_type": "code",
        "colab": {
          "base_uri": "https://localhost:8080/",
          "height": 34
        },
        "outputId": "b6a2ad75-217d-4f49-bafe-7a3c8024e459"
      },
      "source": [
        "xb[0].shape, yb[0].shape"
      ],
      "execution_count": null,
      "outputs": [
        {
          "output_type": "execute_result",
          "data": {
            "text/plain": [
              "(torch.Size([72]), torch.Size([72]))"
            ]
          },
          "metadata": {
            "tags": []
          },
          "execution_count": 36
        }
      ]
    },
    {
      "cell_type": "markdown",
      "metadata": {
        "id": "3G1WAYhX14X3",
        "colab_type": "text"
      },
      "source": [
        "We can see that since we passed in a `seq_len` of 72, each individual text input is 72 words!"
      ]
    },
    {
      "cell_type": "markdown",
      "metadata": {
        "id": "aHuLhP3F2DFX",
        "colab_type": "text"
      },
      "source": [
        "Cool, can we train already?"
      ]
    },
    {
      "cell_type": "markdown",
      "metadata": {
        "id": "Xv088vEJ2ETS",
        "colab_type": "text"
      },
      "source": [
        "## Training the LM:\n",
        "\n",
        "\n",
        "We have a special `Learner` for language models, `language_model_learner` we'll use. The only thing you need to pass in is your `DataLoaders`, specify the `arch`, and pass in some metrics:"
      ]
    },
    {
      "cell_type": "code",
      "metadata": {
        "id": "IY1RqZPK12D7",
        "colab_type": "code",
        "colab": {
          "base_uri": "https://localhost:8080/",
          "height": 194
        },
        "outputId": "0580affa-4218-4d71-f552-b9421e40d980"
      },
      "source": [
        "doc(language_model_learner)"
      ],
      "execution_count": null,
      "outputs": [
        {
          "output_type": "display_data",
          "data": {
            "text/html": [
              "<h4 id=\"language_model_learner\" class=\"doc_header\"><code>language_model_learner</code><a href=\"https://github.com/fastai/fastai2/tree/master/fastai2/text/learner.py#L193\" class=\"source_link\" style=\"float:right\">[source]</a></h4><blockquote><p><code>language_model_learner</code>(<strong><code>dls</code></strong>, <strong><code>arch</code></strong>, <strong><code>config</code></strong>=<em><code>None</code></em>, <strong><code>drop_mult</code></strong>=<em><code>1.0</code></em>, <strong><code>pretrained</code></strong>=<em><code>True</code></em>, <strong><code>pretrained_fnames</code></strong>=<em><code>None</code></em>, <strong><code>loss_func</code></strong>=<em><code>None</code></em>, <strong><code>opt_func</code></strong>=<em><code>'Adam'</code></em>, <strong><code>lr</code></strong>=<em><code>0.001</code></em>, <strong><code>splitter</code></strong>=<em><code>'trainable_params'</code></em>, <strong><code>cbs</code></strong>=<em><code>None</code></em>, <strong><code>metrics</code></strong>=<em><code>None</code></em>, <strong><code>path</code></strong>=<em><code>None</code></em>, <strong><code>model_dir</code></strong>=<em><code>'models'</code></em>, <strong><code>wd</code></strong>=<em><code>None</code></em>, <strong><code>wd_bn_bias</code></strong>=<em><code>False</code></em>, <strong><code>train_bn</code></strong>=<em><code>True</code></em>, <strong><code>moms</code></strong>=<em><code>(0.95, 0.85, 0.95)</code></em>)</p>\n",
              "</blockquote>\n",
              "<p>Create a <code>Learner</code> with a language model from <code>dls</code> and <code>arch</code>.</p>\n",
              "<p><a href=\"https://dev.fast.ai/text.learner#language_model_learner\" target=\"_blank\" rel=\"noreferrer noopener\">Show in docs</a></p>\n"
            ],
            "text/plain": [
              "<IPython.core.display.HTML object>"
            ]
          },
          "metadata": {
            "tags": []
          }
        }
      ]
    },
    {
      "cell_type": "markdown",
      "metadata": {
        "id": "BaGA5eYH2R3C",
        "colab_type": "text"
      },
      "source": [
        "Potentially, if you have your own pre-trained base model you want to use you can pass in a `pretrained_fname`, otherwise we'll use a pretrained `WikiText103` model.\n",
        "\n",
        "For our metrics we'll be using both accuracy and `Perplexity`\n",
        "\n",
        "What is Perplexity? Teaching our model how to deal with uncertainty in language.\n",
        "\n",
        "> Perplexity metric in NLP is a way to capture the degree of 'uncertainty' a model has in predicting (assigning probabilities to) some text. Lower the entropy (uncertainty), lower the perplexity. If a model, which is trained on good blogs and is being evaluated on similarly looking good blogs, assigns higher probability, we say the model has lower perplexity than a model which assigns lower probability. [source](https://www.quora.com/What-is-perplexity-in-NLP)"
      ]
    },
    {
      "cell_type": "code",
      "metadata": {
        "id": "keIgEFBp3ZEH",
        "colab_type": "code",
        "colab": {
          "base_uri": "https://localhost:8080/",
          "height": 151
        },
        "outputId": "2d65c4e6-4152-4264-9c67-0a9a912cc49b"
      },
      "source": [
        "doc(Perplexity)"
      ],
      "execution_count": null,
      "outputs": [
        {
          "output_type": "display_data",
          "data": {
            "text/html": [
              "<h2 id=\"Perplexity\" class=\"doc_header\"><code>class</code> <code>Perplexity</code><a href=\"https://github.com/fastai/fastai2/tree/master/fastai2/metrics.py#L156\" class=\"source_link\" style=\"float:right\">[source]</a></h2><blockquote><p><code>Perplexity</code>() :: <code>AvgLoss</code></p>\n",
              "</blockquote>\n",
              "<p>Perplexity (exponential of cross-entropy loss) for Language Models</p>\n",
              "<p><a href=\"https://dev.fast.ai/metrics#Perplexity\" target=\"_blank\" rel=\"noreferrer noopener\">Show in docs</a></p>\n"
            ],
            "text/plain": [
              "<IPython.core.display.HTML object>"
            ]
          },
          "metadata": {
            "tags": []
          }
        }
      ]
    },
    {
      "cell_type": "markdown",
      "metadata": {
        "id": "mqWwl3WS2-vG",
        "colab_type": "text"
      },
      "source": [
        "So now let's build our `Learner`. For an arch we'll use the `AWD_LSTM` (we'll explore more later on) pretrained on `WikiText`:"
      ]
    },
    {
      "cell_type": "code",
      "metadata": {
        "id": "j28hqXI-2Pkg",
        "colab_type": "code",
        "colab": {
          "base_uri": "https://localhost:8080/",
          "height": 17
        },
        "outputId": "25dae27e-c705-4a82-8d87-48f6fab9c0e4"
      },
      "source": [
        "learn = language_model_learner(dls, AWD_LSTM, metrics=[accuracy, Perplexity()])"
      ],
      "execution_count": null,
      "outputs": [
        {
          "output_type": "display_data",
          "data": {
            "text/html": [
              ""
            ],
            "text/plain": [
              "<IPython.core.display.HTML object>"
            ]
          },
          "metadata": {
            "tags": []
          }
        }
      ]
    },
    {
      "cell_type": "markdown",
      "metadata": {
        "id": "08n9QWN13u1o",
        "colab_type": "text"
      },
      "source": [
        "For training our model, we'll simply use `fine_tune` for a few epochs (mostly due to the small sample size):"
      ]
    },
    {
      "cell_type": "code",
      "metadata": {
        "id": "9HYqodLU3tWL",
        "colab_type": "code",
        "colab": {
          "base_uri": "https://localhost:8080/",
          "height": 255
        },
        "outputId": "91519141-f840-4743-d1e1-a8b852a4317b"
      },
      "source": [
        "learn.fine_tune(5)"
      ],
      "execution_count": null,
      "outputs": [
        {
          "output_type": "display_data",
          "data": {
            "text/html": [
              "<table border=\"1\" class=\"dataframe\">\n",
              "  <thead>\n",
              "    <tr style=\"text-align: left;\">\n",
              "      <th>epoch</th>\n",
              "      <th>train_loss</th>\n",
              "      <th>valid_loss</th>\n",
              "      <th>accuracy</th>\n",
              "      <th>perplexity</th>\n",
              "      <th>time</th>\n",
              "    </tr>\n",
              "  </thead>\n",
              "  <tbody>\n",
              "    <tr>\n",
              "      <td>0</td>\n",
              "      <td>3.058100</td>\n",
              "      <td>2.642663</td>\n",
              "      <td>0.390180</td>\n",
              "      <td>14.050574</td>\n",
              "      <td>00:10</td>\n",
              "    </tr>\n",
              "  </tbody>\n",
              "</table>"
            ],
            "text/plain": [
              "<IPython.core.display.HTML object>"
            ]
          },
          "metadata": {
            "tags": []
          }
        },
        {
          "output_type": "display_data",
          "data": {
            "text/html": [
              "<table border=\"1\" class=\"dataframe\">\n",
              "  <thead>\n",
              "    <tr style=\"text-align: left;\">\n",
              "      <th>epoch</th>\n",
              "      <th>train_loss</th>\n",
              "      <th>valid_loss</th>\n",
              "      <th>accuracy</th>\n",
              "      <th>perplexity</th>\n",
              "      <th>time</th>\n",
              "    </tr>\n",
              "  </thead>\n",
              "  <tbody>\n",
              "    <tr>\n",
              "      <td>0</td>\n",
              "      <td>2.833319</td>\n",
              "      <td>2.535338</td>\n",
              "      <td>0.411559</td>\n",
              "      <td>12.620695</td>\n",
              "      <td>00:12</td>\n",
              "    </tr>\n",
              "    <tr>\n",
              "      <td>1</td>\n",
              "      <td>2.716148</td>\n",
              "      <td>2.460023</td>\n",
              "      <td>0.418889</td>\n",
              "      <td>11.705077</td>\n",
              "      <td>00:12</td>\n",
              "    </tr>\n",
              "    <tr>\n",
              "      <td>2</td>\n",
              "      <td>2.635717</td>\n",
              "      <td>2.426812</td>\n",
              "      <td>0.421273</td>\n",
              "      <td>11.322727</td>\n",
              "      <td>00:12</td>\n",
              "    </tr>\n",
              "    <tr>\n",
              "      <td>3</td>\n",
              "      <td>2.590852</td>\n",
              "      <td>2.411244</td>\n",
              "      <td>0.423066</td>\n",
              "      <td>11.147822</td>\n",
              "      <td>00:12</td>\n",
              "    </tr>\n",
              "    <tr>\n",
              "      <td>4</td>\n",
              "      <td>2.569319</td>\n",
              "      <td>2.407586</td>\n",
              "      <td>0.423487</td>\n",
              "      <td>11.107115</td>\n",
              "      <td>00:12</td>\n",
              "    </tr>\n",
              "  </tbody>\n",
              "</table>"
            ],
            "text/plain": [
              "<IPython.core.display.HTML object>"
            ]
          },
          "metadata": {
            "tags": []
          }
        }
      ]
    },
    {
      "cell_type": "markdown",
      "metadata": {
        "id": "8U952CEZ4I0S",
        "colab_type": "text"
      },
      "source": [
        "That's about what we want in accuracy, ~30-40%, don't expect higher unless you *know* the model can. Remember: we're predicting the next word given the previous few, a hard task! Now that we have our LM, we want to save those embeddings away.\n",
        "\n",
        "Embeddings?"
      ]
    },
    {
      "cell_type": "code",
      "metadata": {
        "id": "-Z-5YH_Y31PP",
        "colab_type": "code",
        "colab": {
          "base_uri": "https://localhost:8080/",
          "height": 34
        },
        "outputId": "985132c8-bb35-4cb7-fbfa-f0c1d5f4a6b9"
      },
      "source": [
        "learn.model[0].encoder"
      ],
      "execution_count": null,
      "outputs": [
        {
          "output_type": "execute_result",
          "data": {
            "text/plain": [
              "Embedding(184, 400, padding_idx=1)"
            ]
          },
          "metadata": {
            "tags": []
          },
          "execution_count": 45
        }
      ]
    },
    {
      "cell_type": "markdown",
      "metadata": {
        "id": "i4DIuZp74hSx",
        "colab_type": "text"
      },
      "source": [
        "These embeddings! This is essentially our ImageNet weights. Along with this, for the downstream task we'll also want our vocab, so we'll actually go ahead and save our `DataLoaders` too.\n",
        "\n",
        "How do we do this? Using `torch.save` and `save_encoder`:"
      ]
    },
    {
      "cell_type": "code",
      "metadata": {
        "id": "nvby1xzQ4Xfn",
        "colab_type": "code",
        "colab": {}
      },
      "source": [
        "torch.save(learn.dls, 'lm_dls.pth')"
      ],
      "execution_count": null,
      "outputs": []
    },
    {
      "cell_type": "code",
      "metadata": {
        "id": "DkGWT5ql4yMr",
        "colab_type": "code",
        "colab": {}
      },
      "source": [
        "learn.save_encoder('fine_tuned_enc')"
      ],
      "execution_count": null,
      "outputs": []
    },
    {
      "cell_type": "markdown",
      "metadata": {
        "id": "SJ40DO8_40dy",
        "colab_type": "text"
      },
      "source": [
        "Our model has been saved to the `models` directory now. Let's work on our downstream task:"
      ]
    },
    {
      "cell_type": "markdown",
      "metadata": {
        "id": "0pTMC4Q75HbU",
        "colab_type": "text"
      },
      "source": [
        "## Classification"
      ]
    },
    {
      "cell_type": "markdown",
      "metadata": {
        "id": "_iJjande5hy0",
        "colab_type": "text"
      },
      "source": [
        "Now classification is what we actually want to do: is this review `pos` or `neg`\n",
        "\n",
        "Let's look at our `DataFrame` one more time to figure out how to frame our `DataBlock`:"
      ]
    },
    {
      "cell_type": "code",
      "metadata": {
        "id": "wHHXSO2_40EZ",
        "colab_type": "code",
        "colab": {
          "base_uri": "https://localhost:8080/",
          "height": 733
        },
        "outputId": "ecb5318d-6be8-4305-d2b2-c81f4bf7287e"
      },
      "source": [
        "df.head()"
      ],
      "execution_count": null,
      "outputs": [
        {
          "output_type": "execute_result",
          "data": {
            "text/html": [
              "<div>\n",
              "<style scoped>\n",
              "    .dataframe tbody tr th:only-of-type {\n",
              "        vertical-align: middle;\n",
              "    }\n",
              "\n",
              "    .dataframe tbody tr th {\n",
              "        vertical-align: top;\n",
              "    }\n",
              "\n",
              "    .dataframe thead th {\n",
              "        text-align: right;\n",
              "    }\n",
              "</style>\n",
              "<table border=\"1\" class=\"dataframe\">\n",
              "  <thead>\n",
              "    <tr style=\"text-align: right;\">\n",
              "      <th></th>\n",
              "      <th>label</th>\n",
              "      <th>text</th>\n",
              "      <th>is_valid</th>\n",
              "    </tr>\n",
              "  </thead>\n",
              "  <tbody>\n",
              "    <tr>\n",
              "      <th>0</th>\n",
              "      <td>negative</td>\n",
              "      <td>Un-bleeping-believable! Meg Ryan doesn't even look her usual pert lovable self in this, which normally makes me forgive her shallow ticky acting schtick. Hard to believe she was the producer on this dog. Plus Kevin Kline: what kind of suicide trip has his career been on? Whoosh... Banzai!!! Finally this was directed by the guy who did Big Chill? Must be a replay of Jonestown - hollywood style. Wooofff!</td>\n",
              "      <td>False</td>\n",
              "    </tr>\n",
              "    <tr>\n",
              "      <th>1</th>\n",
              "      <td>positive</td>\n",
              "      <td>This is a extremely well-made film. The acting, script and camera-work are all first-rate. The music is good, too, though it is mostly early in the film, when things are still relatively cheery. There are no really superstars in the cast, though several faces will be familiar. The entire cast does an excellent job with the script.&lt;br /&gt;&lt;br /&gt;But it is hard to watch, because there is no good end to a situation like the one presented. It is now fashionable to blame the British for setting Hindus and Muslims against each other, and then cruelly separating them into two countries. There is som...</td>\n",
              "      <td>False</td>\n",
              "    </tr>\n",
              "    <tr>\n",
              "      <th>2</th>\n",
              "      <td>negative</td>\n",
              "      <td>Every once in a long while a movie will come along that will be so awful that I feel compelled to warn people. If I labor all my days and I can save but one soul from watching this movie, how great will be my joy.&lt;br /&gt;&lt;br /&gt;Where to begin my discussion of pain. For starters, there was a musical montage every five minutes. There was no character development. Every character was a stereotype. We had swearing guy, fat guy who eats donuts, goofy foreign guy, etc. The script felt as if it were being written as the movie was being shot. The production value was so incredibly low that it felt li...</td>\n",
              "      <td>False</td>\n",
              "    </tr>\n",
              "    <tr>\n",
              "      <th>3</th>\n",
              "      <td>positive</td>\n",
              "      <td>Name just says it all. I watched this movie with my dad when it came out and having served in Korea he had great admiration for the man. The disappointing thing about this film is that it only concentrate on a short period of the man's life - interestingly enough the man's entire life would have made such an epic bio-pic that it is staggering to imagine the cost for production.&lt;br /&gt;&lt;br /&gt;Some posters elude to the flawed characteristics about the man, which are cheap shots. The theme of the movie \"Duty, Honor, Country\" are not just mere words blathered from the lips of a high-brassed offic...</td>\n",
              "      <td>False</td>\n",
              "    </tr>\n",
              "    <tr>\n",
              "      <th>4</th>\n",
              "      <td>negative</td>\n",
              "      <td>This movie succeeds at being one of the most unique movies you've seen. However this comes from the fact that you can't make heads or tails of this mess. It almost seems as a series of challenges set up to determine whether or not you are willing to walk out of the movie and give up the money you just paid. If you don't want to feel slighted you'll sit through this horrible film and develop a real sense of pity for the actors involved, they've all seen better days, but then you realize they actually got paid quite a bit of money to do this and you'll lose pity for them just like you've alr...</td>\n",
              "      <td>False</td>\n",
              "    </tr>\n",
              "  </tbody>\n",
              "</table>\n",
              "</div>"
            ],
            "text/plain": [
              "      label  ... is_valid\n",
              "0  negative  ...    False\n",
              "1  positive  ...    False\n",
              "2  negative  ...    False\n",
              "3  positive  ...    False\n",
              "4  negative  ...    False\n",
              "\n",
              "[5 rows x 3 columns]"
            ]
          },
          "metadata": {
            "tags": []
          },
          "execution_count": 49
        }
      ]
    },
    {
      "cell_type": "markdown",
      "metadata": {
        "id": "iKIQWSmI5vo2",
        "colab_type": "text"
      },
      "source": [
        "So we'll want another `ColReader` to grab our label and to split our data by the `is_valid` column. First let's get everything ready by loading in those `DataLoaders` from earlier:"
      ]
    },
    {
      "cell_type": "code",
      "metadata": {
        "id": "nsF-E58i5sbJ",
        "colab_type": "code",
        "colab": {}
      },
      "source": [
        "lm_dls = torch.load('lm_dls.pth')"
      ],
      "execution_count": null,
      "outputs": []
    },
    {
      "cell_type": "markdown",
      "metadata": {
        "id": "2SfWkrwS59o8",
        "colab_type": "text"
      },
      "source": [
        "We need these because we already have a vocab to use, and a sequence length:"
      ]
    },
    {
      "cell_type": "code",
      "metadata": {
        "id": "q0GSjHJr58jO",
        "colab_type": "code",
        "colab": {}
      },
      "source": [
        "blocks = (TextBlock.from_df('text', res_col_name='tok_text', seq_len=lm_dls.seq_len,\n",
        "                            vocab=lm_dls.vocab), CategoryBlock())"
      ],
      "execution_count": null,
      "outputs": []
    },
    {
      "cell_type": "markdown",
      "metadata": {
        "id": "Bo-Tgf836XMV",
        "colab_type": "text"
      },
      "source": [
        "Then we'll build our `DataBlock`:"
      ]
    },
    {
      "cell_type": "code",
      "metadata": {
        "id": "jfWZ2DRr6WVf",
        "colab_type": "code",
        "colab": {}
      },
      "source": [
        "imdb_class = DataBlock(blocks=blocks,\n",
        "                       get_x=ColReader('tok_text'),\n",
        "                       get_y=ColReader('label'),\n",
        "                       splitter=ColSplitter(col='is_valid'))"
      ],
      "execution_count": null,
      "outputs": []
    },
    {
      "cell_type": "markdown",
      "metadata": {
        "id": "QuAWYZ0c6i3D",
        "colab_type": "text"
      },
      "source": [
        "And finally the `DataLoaders`:"
      ]
    },
    {
      "cell_type": "code",
      "metadata": {
        "id": "9pVWoORw6hS-",
        "colab_type": "code",
        "colab": {
          "base_uri": "https://localhost:8080/",
          "height": 17
        },
        "outputId": "955544af-f925-4852-f50e-e6efb9ca7adf"
      },
      "source": [
        "dls = imdb_class.dataloaders(df, bs=64)"
      ],
      "execution_count": null,
      "outputs": [
        {
          "output_type": "display_data",
          "data": {
            "text/html": [
              ""
            ],
            "text/plain": [
              "<IPython.core.display.HTML object>"
            ]
          },
          "metadata": {
            "tags": []
          }
        }
      ]
    },
    {
      "cell_type": "markdown",
      "metadata": {
        "id": "jPqNMQiF6p9h",
        "colab_type": "text"
      },
      "source": [
        "Those with a keen eye will notice how we called `.vocab`, but before that meant how we grab our classes! So how do we do this here?\n",
        "\n",
        "Since `Categorize` (what `CategoryBlock` adds) is a transform that's stored as an attribute, we can grab our classes that way:"
      ]
    },
    {
      "cell_type": "code",
      "metadata": {
        "id": "fOxy1QmF6noG",
        "colab_type": "code",
        "colab": {
          "base_uri": "https://localhost:8080/",
          "height": 34
        },
        "outputId": "a45ba64d-c253-40de-9f99-510529d728ae"
      },
      "source": [
        "dls.categorize.vocab"
      ],
      "execution_count": null,
      "outputs": [
        {
          "output_type": "execute_result",
          "data": {
            "text/plain": [
              "(#2) ['negative','positive']"
            ]
          },
          "metadata": {
            "tags": []
          },
          "execution_count": 55
        }
      ]
    },
    {
      "cell_type": "markdown",
      "metadata": {
        "id": "aKJ7xbZ67FvR",
        "colab_type": "text"
      },
      "source": [
        "## `text_classifier_learner`\n",
        "\n",
        "Next up is the `text_classifier_learner`. This is what we'll use to make our classification AWD_LSTM:"
      ]
    },
    {
      "cell_type": "code",
      "metadata": {
        "id": "fQrY0jUQ65QT",
        "colab_type": "code",
        "colab": {
          "base_uri": "https://localhost:8080/",
          "height": 210
        },
        "outputId": "00a07c94-23fd-4aac-c045-b6b91035a6be"
      },
      "source": [
        "doc(text_classifier_learner)"
      ],
      "execution_count": null,
      "outputs": [
        {
          "output_type": "display_data",
          "data": {
            "text/html": [
              "<h4 id=\"text_classifier_learner\" class=\"doc_header\"><code>text_classifier_learner</code><a href=\"https://github.com/fastai/fastai2/tree/master/fastai2/text/learner.py#L216\" class=\"source_link\" style=\"float:right\">[source]</a></h4><blockquote><p><code>text_classifier_learner</code>(<strong><code>dls</code></strong>, <strong><code>arch</code></strong>, <strong><code>seq_len</code></strong>=<em><code>72</code></em>, <strong><code>config</code></strong>=<em><code>None</code></em>, <strong><code>pretrained</code></strong>=<em><code>True</code></em>, <strong><code>drop_mult</code></strong>=<em><code>0.5</code></em>, <strong><code>n_out</code></strong>=<em><code>None</code></em>, <strong><code>lin_ftrs</code></strong>=<em><code>None</code></em>, <strong><code>ps</code></strong>=<em><code>None</code></em>, <strong><code>max_len</code></strong>=<em><code>1440</code></em>, <strong><code>y_range</code></strong>=<em><code>None</code></em>, <strong><code>loss_func</code></strong>=<em><code>None</code></em>, <strong><code>opt_func</code></strong>=<em><code>'Adam'</code></em>, <strong><code>lr</code></strong>=<em><code>0.001</code></em>, <strong><code>splitter</code></strong>=<em><code>'trainable_params'</code></em>, <strong><code>cbs</code></strong>=<em><code>None</code></em>, <strong><code>metrics</code></strong>=<em><code>None</code></em>, <strong><code>path</code></strong>=<em><code>None</code></em>, <strong><code>model_dir</code></strong>=<em><code>'models'</code></em>, <strong><code>wd</code></strong>=<em><code>None</code></em>, <strong><code>wd_bn_bias</code></strong>=<em><code>False</code></em>, <strong><code>train_bn</code></strong>=<em><code>True</code></em>, <strong><code>moms</code></strong>=<em><code>(0.95, 0.85, 0.95)</code></em>)</p>\n",
              "</blockquote>\n",
              "<p>Create a <code>Learner</code> with a text classifier from <code>dls</code> and <code>arch</code>.</p>\n",
              "<p><a href=\"https://dev.fast.ai/text.learner#text_classifier_learner\" target=\"_blank\" rel=\"noreferrer noopener\">Show in docs</a></p>\n"
            ],
            "text/plain": [
              "<IPython.core.display.HTML object>"
            ]
          },
          "metadata": {
            "tags": []
          }
        }
      ]
    },
    {
      "cell_type": "code",
      "metadata": {
        "id": "RhFWxBxl7P0_",
        "colab_type": "code",
        "colab": {}
      },
      "source": [
        "learn = text_classifier_learner(dls, AWD_LSTM, metrics=[accuracy])"
      ],
      "execution_count": null,
      "outputs": []
    },
    {
      "cell_type": "markdown",
      "metadata": {
        "id": "zR6h_Y1071yi",
        "colab_type": "text"
      },
      "source": [
        "Now we have our pretrained embeddings right? Let's look at it in our `learn`:"
      ]
    },
    {
      "cell_type": "code",
      "metadata": {
        "id": "mIR1ECV8706_",
        "colab_type": "code",
        "colab": {
          "base_uri": "https://localhost:8080/",
          "height": 34
        },
        "outputId": "e3372dd6-6cfc-4959-f390-5d6ae74ca064"
      },
      "source": [
        "learn.model[0].module.encoder"
      ],
      "execution_count": null,
      "outputs": [
        {
          "output_type": "execute_result",
          "data": {
            "text/plain": [
              "Embedding(184, 400, padding_idx=1)"
            ]
          },
          "metadata": {
            "tags": []
          },
          "execution_count": 62
        }
      ]
    },
    {
      "cell_type": "markdown",
      "metadata": {
        "id": "GuScoWnZ7_A-",
        "colab_type": "text"
      },
      "source": [
        "It's right there! So we have a `load_encoder` function that will copy over our weights to there:"
      ]
    },
    {
      "cell_type": "code",
      "metadata": {
        "id": "rlBfNN0B8LZc",
        "colab_type": "code",
        "colab": {
          "base_uri": "https://localhost:8080/",
          "height": 143
        },
        "outputId": "ca50b261-1ea7-4e52-e37a-d86558542ddd"
      },
      "source": [
        "doc(learn.load_encoder)"
      ],
      "execution_count": null,
      "outputs": [
        {
          "output_type": "display_data",
          "data": {
            "text/html": [
              "<h4 id=\"TextLearner.load_encoder\" class=\"doc_header\"><code>TextLearner.load_encoder</code><a href=\"https://github.com/fastai/fastai2/tree/master/fastai2/text/learner.py#L99\" class=\"source_link\" style=\"float:right\">[source]</a></h4><blockquote><p><code>TextLearner.load_encoder</code>(<strong><code>file</code></strong>, <strong><code>device</code></strong>=<em><code>None</code></em>)</p>\n",
              "</blockquote>\n",
              "<p>Load the encoder <code>file</code> from the model directory, optionally ensuring it's on <code>device</code></p>\n",
              "<p><a href=\"https://dev.fast.ai/text.learner#TextLearner.load_encoder\" target=\"_blank\" rel=\"noreferrer noopener\">Show in docs</a></p>\n"
            ],
            "text/plain": [
              "<IPython.core.display.HTML object>"
            ]
          },
          "metadata": {
            "tags": []
          }
        }
      ]
    },
    {
      "cell_type": "code",
      "metadata": {
        "id": "2qoZdI7F76gs",
        "colab_type": "code",
        "colab": {}
      },
      "source": [
        "learn.load_encoder('fine_tuned_enc');"
      ],
      "execution_count": null,
      "outputs": []
    },
    {
      "cell_type": "markdown",
      "metadata": {
        "id": "o8mRXeX48QN2",
        "colab_type": "text"
      },
      "source": [
        "> Note: It will automatically assume that your model is saved in `learn.path` in the `models` folder and has the extention `.pth`"
      ]
    },
    {
      "cell_type": "markdown",
      "metadata": {
        "id": "3JykJcEc84ES",
        "colab_type": "text"
      },
      "source": [
        "So now we have our frozen model and our pretrained weights. Let's train!\n",
        "\n",
        "We're going to use a training methodology that Jeremy and Sebastian Ruder came up with for fine-tuning:\n",
        "\n",
        "1. Find a learning rate\n",
        "2. Lower that learning rate each time, slowly unfreezing fitting for 1 epoch at a time\n",
        "3. Finally unfreeze the model and fit for two epochs:"
      ]
    },
    {
      "cell_type": "code",
      "metadata": {
        "id": "QSmtxVOx8Jj7",
        "colab_type": "code",
        "colab": {
          "base_uri": "https://localhost:8080/",
          "height": 283
        },
        "outputId": "0abebb62-126d-4fb3-b77d-b5cbadc18896"
      },
      "source": [
        "lr = learn.lr_find(suggestions=True)"
      ],
      "execution_count": null,
      "outputs": [
        {
          "output_type": "display_data",
          "data": {
            "text/html": [
              ""
            ],
            "text/plain": [
              "<IPython.core.display.HTML object>"
            ]
          },
          "metadata": {
            "tags": []
          }
        },
        {
          "output_type": "display_data",
          "data": {
            "image/png": "[encoded data removed]",
            "text/plain": [
              "<Figure size 432x288 with 1 Axes>"
            ]
          },
          "metadata": {
            "tags": [],
            "needs_background": "light"
          }
        }
      ]
    },
    {
      "cell_type": "code",
      "metadata": {
        "id": "8OKI5Sjb820h",
        "colab_type": "code",
        "colab": {
          "base_uri": "https://localhost:8080/",
          "height": 34
        },
        "outputId": "0c5f65b9-7c8a-4225-f27e-3b52f889ecb2"
      },
      "source": [
        "lr"
      ],
      "execution_count": null,
      "outputs": [
        {
          "output_type": "execute_result",
          "data": {
            "text/plain": [
              "SuggestedLRs(lr_min=0.04365158379077912, lr_steep=0.0014454397605732083)"
            ]
          },
          "metadata": {
            "tags": []
          },
          "execution_count": 69
        }
      ]
    },
    {
      "cell_type": "markdown",
      "metadata": {
        "id": "D16bOBGU9qDC",
        "colab_type": "text"
      },
      "source": [
        "That's about 4e-2, so I'll agree with it, let's train on this schema:"
      ]
    },
    {
      "cell_type": "code",
      "metadata": {
        "id": "xaIlwqRE9o0Z",
        "colab_type": "code",
        "colab": {}
      },
      "source": [
        "lr = 0.04365158379077912"
      ],
      "execution_count": null,
      "outputs": []
    },
    {
      "cell_type": "markdown",
      "metadata": {
        "id": "AcwmEv-F91IQ",
        "colab_type": "text"
      },
      "source": [
        "First one epoch completely frozen:"
      ]
    },
    {
      "cell_type": "code",
      "metadata": {
        "id": "z9vGw4lC9naS",
        "colab_type": "code",
        "colab": {
          "base_uri": "https://localhost:8080/",
          "height": 77
        },
        "outputId": "5a617143-b353-4885-9d59-ae23252d19cd"
      },
      "source": [
        "learn.fit_one_cycle(1, lr)"
      ],
      "execution_count": null,
      "outputs": [
        {
          "output_type": "display_data",
          "data": {
            "text/html": [
              "<table border=\"1\" class=\"dataframe\">\n",
              "  <thead>\n",
              "    <tr style=\"text-align: left;\">\n",
              "      <th>epoch</th>\n",
              "      <th>train_loss</th>\n",
              "      <th>valid_loss</th>\n",
              "      <th>accuracy</th>\n",
              "      <th>time</th>\n",
              "    </tr>\n",
              "  </thead>\n",
              "  <tbody>\n",
              "    <tr>\n",
              "      <td>0</td>\n",
              "      <td>0.725329</td>\n",
              "      <td>0.660920</td>\n",
              "      <td>0.610000</td>\n",
              "      <td>00:03</td>\n",
              "    </tr>\n",
              "  </tbody>\n",
              "</table>"
            ],
            "text/plain": [
              "<IPython.core.display.HTML object>"
            ]
          },
          "metadata": {
            "tags": []
          }
        }
      ]
    },
    {
      "cell_type": "markdown",
      "metadata": {
        "id": "dS1Z_u0596pB",
        "colab_type": "text"
      },
      "source": [
        "Then we freeze to `-2` and adjust our `lr`:"
      ]
    },
    {
      "cell_type": "code",
      "metadata": {
        "id": "aMwzXKYy928Z",
        "colab_type": "code",
        "colab": {
          "base_uri": "https://localhost:8080/",
          "height": 143
        },
        "outputId": "e8a59575-6565-4067-c8dc-cb2471d6b012"
      },
      "source": [
        "doc(learn.freeze_to)"
      ],
      "execution_count": null,
      "outputs": [
        {
          "output_type": "display_data",
          "data": {
            "text/html": [
              "<h4 id=\"Learner.freeze_to\" class=\"doc_header\"><code>Learner.freeze_to</code><a href=\"https://github.com/fastai/fastai2/tree/master/fastai2/learner.py#L481\" class=\"source_link\" style=\"float:right\">[source]</a></h4><blockquote><p><code>Learner.freeze_to</code>(<strong><code>n</code></strong>)</p>\n",
              "</blockquote>\n",
              "<p>Freeze parameter groups up to <code>n</code></p>\n",
              "<p><a href=\"https://dev.fast.ai/learner#Learner.freeze_to\" target=\"_blank\" rel=\"noreferrer noopener\">Show in docs</a></p>\n"
            ],
            "text/plain": [
              "<IPython.core.display.HTML object>"
            ]
          },
          "metadata": {
            "tags": []
          }
        }
      ]
    },
    {
      "cell_type": "code",
      "metadata": {
        "id": "mHOB-Sws-ImC",
        "colab_type": "code",
        "colab": {
          "base_uri": "https://localhost:8080/",
          "height": 34
        },
        "outputId": "14638429-c3f1-4638-baf2-c645e9a4dfd6"
      },
      "source": [
        "adj = 2.6**4; adj"
      ],
      "execution_count": null,
      "outputs": [
        {
          "output_type": "execute_result",
          "data": {
            "text/plain": [
              "45.69760000000001"
            ]
          },
          "metadata": {
            "tags": []
          },
          "execution_count": 77
        }
      ]
    },
    {
      "cell_type": "markdown",
      "metadata": {
        "id": "iJSvlpxn-KYd",
        "colab_type": "text"
      },
      "source": [
        "This adjuster schema is how we will divide our `lr` during fitting (we'll also adjust our learning rate outside of it):"
      ]
    },
    {
      "cell_type": "code",
      "metadata": {
        "id": "ml3CfzzB9-2A",
        "colab_type": "code",
        "colab": {
          "base_uri": "https://localhost:8080/",
          "height": 77
        },
        "outputId": "d8d3c1a2-88db-47bc-cb58-42e25ef20261"
      },
      "source": [
        "learn.freeze_to(-2)\n",
        "learn.fit_one_cycle(1, slice(lr/adj, lr))"
      ],
      "execution_count": null,
      "outputs": [
        {
          "output_type": "display_data",
          "data": {
            "text/html": [
              "<table border=\"1\" class=\"dataframe\">\n",
              "  <thead>\n",
              "    <tr style=\"text-align: left;\">\n",
              "      <th>epoch</th>\n",
              "      <th>train_loss</th>\n",
              "      <th>valid_loss</th>\n",
              "      <th>accuracy</th>\n",
              "      <th>time</th>\n",
              "    </tr>\n",
              "  </thead>\n",
              "  <tbody>\n",
              "    <tr>\n",
              "      <td>0</td>\n",
              "      <td>0.728662</td>\n",
              "      <td>0.663544</td>\n",
              "      <td>0.595000</td>\n",
              "      <td>00:05</td>\n",
              "    </tr>\n",
              "  </tbody>\n",
              "</table>"
            ],
            "text/plain": [
              "<IPython.core.display.HTML object>"
            ]
          },
          "metadata": {
            "tags": []
          }
        }
      ]
    },
    {
      "cell_type": "markdown",
      "metadata": {
        "id": "ztK9fioO-kZP",
        "colab_type": "text"
      },
      "source": [
        "Then -3:"
      ]
    },
    {
      "cell_type": "code",
      "metadata": {
        "id": "aAqB8LH4-j7u",
        "colab_type": "code",
        "colab": {
          "base_uri": "https://localhost:8080/",
          "height": 77
        },
        "outputId": "17072c88-9ee6-4cc2-f856-e9f56a2f4c8a"
      },
      "source": [
        "learn.freeze_to(-3)\n",
        "lr /= 2\n",
        "learn.fit_one_cycle(1, slice(lr/adj, lr))"
      ],
      "execution_count": null,
      "outputs": [
        {
          "output_type": "display_data",
          "data": {
            "text/html": [
              "<table border=\"1\" class=\"dataframe\">\n",
              "  <thead>\n",
              "    <tr style=\"text-align: left;\">\n",
              "      <th>epoch</th>\n",
              "      <th>train_loss</th>\n",
              "      <th>valid_loss</th>\n",
              "      <th>accuracy</th>\n",
              "      <th>time</th>\n",
              "    </tr>\n",
              "  </thead>\n",
              "  <tbody>\n",
              "    <tr>\n",
              "      <td>0</td>\n",
              "      <td>0.631015</td>\n",
              "      <td>0.583745</td>\n",
              "      <td>0.680000</td>\n",
              "      <td>00:05</td>\n",
              "    </tr>\n",
              "  </tbody>\n",
              "</table>"
            ],
            "text/plain": [
              "<IPython.core.display.HTML object>"
            ]
          },
          "metadata": {
            "tags": []
          }
        }
      ]
    },
    {
      "cell_type": "code",
      "metadata": {
        "id": "Yv4XD48J-rFU",
        "colab_type": "code",
        "colab": {
          "base_uri": "https://localhost:8080/",
          "height": 106
        },
        "outputId": "1734dca7-f468-4925-cd60-259fb2c36a58"
      },
      "source": [
        "learn.unfreeze()\n",
        "lr /= 5\n",
        "learn.fit_one_cycle(2, slice(lr/adj, lr))"
      ],
      "execution_count": null,
      "outputs": [
        {
          "output_type": "display_data",
          "data": {
            "text/html": [
              "<table border=\"1\" class=\"dataframe\">\n",
              "  <thead>\n",
              "    <tr style=\"text-align: left;\">\n",
              "      <th>epoch</th>\n",
              "      <th>train_loss</th>\n",
              "      <th>valid_loss</th>\n",
              "      <th>accuracy</th>\n",
              "      <th>time</th>\n",
              "    </tr>\n",
              "  </thead>\n",
              "  <tbody>\n",
              "    <tr>\n",
              "      <td>0</td>\n",
              "      <td>0.492473</td>\n",
              "      <td>0.531331</td>\n",
              "      <td>0.725000</td>\n",
              "      <td>00:08</td>\n",
              "    </tr>\n",
              "    <tr>\n",
              "      <td>1</td>\n",
              "      <td>0.448703</td>\n",
              "      <td>0.533241</td>\n",
              "      <td>0.735000</td>\n",
              "      <td>00:08</td>\n",
              "    </tr>\n",
              "  </tbody>\n",
              "</table>"
            ],
            "text/plain": [
              "<IPython.core.display.HTML object>"
            ]
          },
          "metadata": {
            "tags": []
          }
        }
      ]
    },
    {
      "cell_type": "markdown",
      "metadata": {
        "id": "zTzkglUW-1pn",
        "colab_type": "text"
      },
      "source": [
        "73.5% is as high as we got given a subset of only 1,000 texts! Not to shabby, with the full version we can expect around 94.5% accuracy (this was their results in the paper). \n",
        "\n",
        "Now let's show an example predict, and for fun, compare `fastai2` to `fastinference`\n",
        "\n",
        "> **Warning**: the `ULMFiT` model will *not* export to ONNX"
      ]
    },
    {
      "cell_type": "code",
      "metadata": {
        "id": "VDxpMkeY-w_x",
        "colab_type": "code",
        "colab": {
          "base_uri": "https://localhost:8080/",
          "height": 50
        },
        "outputId": "e8a2c135-cce9-4e76-e964-7363dd8e95b0"
      },
      "source": [
        "%%time\n",
        "out = learn.predict(df.iloc[0]['text'])"
      ],
      "execution_count": null,
      "outputs": [
        {
          "output_type": "display_data",
          "data": {
            "text/html": [
              ""
            ],
            "text/plain": [
              "<IPython.core.display.HTML object>"
            ]
          },
          "metadata": {
            "tags": []
          }
        },
        {
          "output_type": "stream",
          "text": [
            "CPU times: user 39.6 ms, sys: 2.15 ms, total: 41.7 ms\n",
            "Wall time: 46.4 ms\n"
          ],
          "name": "stdout"
        }
      ]
    },
    {
      "cell_type": "code",
      "metadata": {
        "id": "ewEQC7yt_eJf",
        "colab_type": "code",
        "colab": {
          "base_uri": "https://localhost:8080/",
          "height": 34
        },
        "outputId": "ffbe3a46-bc2b-43a5-8d33-f1f92d6058f2"
      },
      "source": [
        "out"
      ],
      "execution_count": null,
      "outputs": [
        {
          "output_type": "execute_result",
          "data": {
            "text/plain": [
              "('negative', tensor(0), tensor([0.6171, 0.3829]))"
            ]
          },
          "metadata": {
            "tags": []
          },
          "execution_count": 88
        }
      ]
    },
    {
      "cell_type": "code",
      "metadata": {
        "id": "r4SyXmK2_UDC",
        "colab_type": "code",
        "colab": {}
      },
      "source": [
        "dl = learn.dls.test_dl(df.iloc[:1]['text'])"
      ],
      "execution_count": null,
      "outputs": []
    },
    {
      "cell_type": "code",
      "metadata": {
        "id": "iRrdBLHs_Xrg",
        "colab_type": "code",
        "colab": {
          "base_uri": "https://localhost:8080/",
          "height": 50
        },
        "outputId": "597a303b-1ed1-4106-faa1-b974751f9b61"
      },
      "source": [
        "%%time\n",
        "preds = learn.get_preds(dl=dl)"
      ],
      "execution_count": null,
      "outputs": [
        {
          "output_type": "display_data",
          "data": {
            "text/html": [
              ""
            ],
            "text/plain": [
              "<IPython.core.display.HTML object>"
            ]
          },
          "metadata": {
            "tags": []
          }
        },
        {
          "output_type": "stream",
          "text": [
            "CPU times: user 33.9 ms, sys: 52.5 ms, total: 86.4 ms\n",
            "Wall time: 127 ms\n"
          ],
          "name": "stdout"
        }
      ]
    },
    {
      "cell_type": "code",
      "metadata": {
        "id": "mOHfxnTx_blh",
        "colab_type": "code",
        "colab": {
          "base_uri": "https://localhost:8080/",
          "height": 34
        },
        "outputId": "8035a140-331a-4153-e6c1-c1d6d7408738"
      },
      "source": [
        "preds"
      ],
      "execution_count": null,
      "outputs": [
        {
          "output_type": "execute_result",
          "data": {
            "text/plain": [
              "(tensor([[0.6171, 0.3829]]), None)"
            ]
          },
          "metadata": {
            "tags": []
          },
          "execution_count": 91
        }
      ]
    },
    {
      "cell_type": "markdown",
      "metadata": {
        "id": "psHTGiHt_hdM",
        "colab_type": "text"
      },
      "source": [
        "What about `fastinference`?"
      ]
    },
    {
      "cell_type": "code",
      "metadata": {
        "id": "zJC9Naw1_glZ",
        "colab_type": "code",
        "colab": {}
      },
      "source": [
        "!pip install fastinference --quiet"
      ],
      "execution_count": null,
      "outputs": []
    },
    {
      "cell_type": "code",
      "metadata": {
        "id": "RPqGTjxj_sCP",
        "colab_type": "code",
        "colab": {}
      },
      "source": [
        "from fastinference.inference import *"
      ],
      "execution_count": null,
      "outputs": []
    },
    {
      "cell_type": "code",
      "metadata": {
        "id": "hrCvWFMM_jvd",
        "colab_type": "code",
        "colab": {
          "base_uri": "https://localhost:8080/",
          "height": 50
        },
        "outputId": "239c8e2c-d9bd-4df3-b6e4-ec05a56e0af6"
      },
      "source": [
        "%%time\n",
        "out = learn.predict(df.iloc[0]['text'])"
      ],
      "execution_count": null,
      "outputs": [
        {
          "output_type": "stream",
          "text": [
            "CPU times: user 22.9 ms, sys: 4.6 ms, total: 27.5 ms\n",
            "Wall time: 33.7 ms\n"
          ],
          "name": "stdout"
        }
      ]
    },
    {
      "cell_type": "code",
      "metadata": {
        "id": "T1ZSLDA0_6h8",
        "colab_type": "code",
        "colab": {
          "base_uri": "https://localhost:8080/",
          "height": 34
        },
        "outputId": "193c6cfb-9ec7-44b6-d644-4f204f262dc9"
      },
      "source": [
        "out"
      ],
      "execution_count": null,
      "outputs": [
        {
          "output_type": "execute_result",
          "data": {
            "text/plain": [
              "[['negative'], array([[0.6171321, 0.3828678]], dtype=float32)]"
            ]
          },
          "metadata": {
            "tags": []
          },
          "execution_count": 102
        }
      ]
    },
    {
      "cell_type": "code",
      "metadata": {
        "id": "VCKQQ8jd_v3-",
        "colab_type": "code",
        "colab": {
          "base_uri": "https://localhost:8080/",
          "height": 50
        },
        "outputId": "8ccb51d9-60f5-482a-dac9-575973e02c74"
      },
      "source": [
        "%%time\n",
        "preds = learn.get_preds(dl=dl)"
      ],
      "execution_count": null,
      "outputs": [
        {
          "output_type": "stream",
          "text": [
            "CPU times: user 20.3 ms, sys: 52.6 ms, total: 72.9 ms\n",
            "Wall time: 105 ms\n"
          ],
          "name": "stdout"
        }
      ]
    },
    {
      "cell_type": "markdown",
      "metadata": {
        "id": "260db_Q6ABbx",
        "colab_type": "text"
      },
      "source": [
        "We can still shave off some time!"
      ]
    },
    {
      "cell_type": "code",
      "metadata": {
        "id": "re7pgrJ0AAKv",
        "colab_type": "code",
        "colab": {
          "base_uri": "https://localhost:8080/",
          "height": 34
        },
        "outputId": "f1109afc-fa98-4f2c-af30-14fc366d86f7"
      },
      "source": [
        "preds"
      ],
      "execution_count": null,
      "outputs": [
        {
          "output_type": "execute_result",
          "data": {
            "text/plain": [
              "[['negative'], array([[0.6171321, 0.3828678]], dtype=float32)]"
            ]
          },
          "metadata": {
            "tags": []
          },
          "execution_count": 104
        }
      ]
    },
    {
      "cell_type": "markdown",
      "metadata": {
        "id": "0-JbyWpnAEIS",
        "colab_type": "text"
      },
      "source": [
        "While also still getting our classes back each time too"
      ]
    }
  ]
}